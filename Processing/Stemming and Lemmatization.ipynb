{
 "cells": [
  {
   "cell_type": "markdown",
   "metadata": {},
   "source": [
    "# Stemming and Lemmatization\n",
    "<hr/>\n",
    "### Stemming\n",
    "Examples: <br>\n",
    "history -> histori <br>\n",
    "historical -> history <br>\n",
    "finally -> fina <br>\n",
    "final -> fina <br>\n",
    "finalized -> fina <br>\n",
    "    \n",
    "### Lemmatization\n",
    "Examples: <br>\n",
    "history -> history <br>\n",
    "historical -> history <br>\n",
    "finally -> final <br>\n",
    "final -> final <br>\n",
    "finalized -> final <br>\n",
    "<hr/>"
   ]
  },
  {
   "cell_type": "markdown",
   "metadata": {},
   "source": [
    "## Difference between stemming and lemmatization\n",
    "<hr/>\n",
    "#### Stemming \n",
    "- Word representation will not have any meaning\n",
    "- Very fast\n",
    "- Applications:\n",
    "    1. Sentiment classifier\n",
    "    2. Spam/Ham Classifier\n",
    "    3. Positive/Neg sentiment\n",
    "- Problem: \n",
    "\n",
    "#### Lemmatization\n",
    "- Word representations will have meaning\n",
    "- Not so fast\n",
    "- Applications:\n",
    "    1. Chatbots\n",
    "    2. Response questionairre machines "
   ]
  },
  {
   "cell_type": "markdown",
   "metadata": {},
   "source": [
    "<hr>\n",
    "\n",
    "# Stemming\n",
    "\n",
    "<hr>"
   ]
  },
  {
   "cell_type": "code",
   "execution_count": 20,
   "metadata": {},
   "outputs": [],
   "source": [
    "# Import nltk and the stemmer\n",
    "import nltk\n",
    "from nltk.stem import PorterStemmer # Used for stemming\n",
    "from nltk.corpus import stopwords # Used for stopwords"
   ]
  },
  {
   "cell_type": "markdown",
   "metadata": {},
   "source": [
    "<i> Note: We need to remove the stop words as they dont play any proper role wrt sentiment analysis etc. Hence we remove the stopwords <i/>"
   ]
  },
  {
   "cell_type": "code",
   "execution_count": 21,
   "metadata": {},
   "outputs": [
    {
     "name": "stdout",
     "output_type": "stream",
     "text": [
      "['i', 'me', 'my', 'myself', 'we', 'our', 'ours', 'ourselves', 'you', \"you're\", \"you've\", \"you'll\", \"you'd\", 'your', 'yours', 'yourself', 'yourselves', 'he', 'him', 'his', 'himself', 'she', \"she's\", 'her', 'hers', 'herself', 'it', \"it's\", 'its', 'itself', 'they', 'them', 'their', 'theirs', 'themselves', 'what', 'which', 'who', 'whom', 'this', 'that', \"that'll\", 'these', 'those', 'am', 'is', 'are', 'was', 'were', 'be', 'been', 'being', 'have', 'has', 'had', 'having', 'do', 'does', 'did', 'doing', 'a', 'an', 'the', 'and', 'but', 'if', 'or', 'because', 'as', 'until', 'while', 'of', 'at', 'by', 'for', 'with', 'about', 'against', 'between', 'into', 'through', 'during', 'before', 'after', 'above', 'below', 'to', 'from', 'up', 'down', 'in', 'out', 'on', 'off', 'over', 'under', 'again', 'further', 'then', 'once', 'here', 'there', 'when', 'where', 'why', 'how', 'all', 'any', 'both', 'each', 'few', 'more', 'most', 'other', 'some', 'such', 'no', 'nor', 'not', 'only', 'own', 'same', 'so', 'than', 'too', 'very', 's', 't', 'can', 'will', 'just', 'don', \"don't\", 'should', \"should've\", 'now', 'd', 'll', 'm', 'o', 're', 've', 'y', 'ain', 'aren', \"aren't\", 'couldn', \"couldn't\", 'didn', \"didn't\", 'doesn', \"doesn't\", 'hadn', \"hadn't\", 'hasn', \"hasn't\", 'haven', \"haven't\", 'isn', \"isn't\", 'ma', 'mightn', \"mightn't\", 'mustn', \"mustn't\", 'needn', \"needn't\", 'shan', \"shan't\", 'shouldn', \"shouldn't\", 'wasn', \"wasn't\", 'weren', \"weren't\", 'won', \"won't\", 'wouldn', \"wouldn't\"]\n"
     ]
    }
   ],
   "source": [
    "# Stopwords\n",
    "print(stopwords.words('english'))\n",
    "# print(stopwords.words('french'))"
   ]
  },
  {
   "cell_type": "code",
   "execution_count": 22,
   "metadata": {},
   "outputs": [
    {
     "name": "stdout",
     "output_type": "stream",
     "text": [
      "31\n"
     ]
    }
   ],
   "source": [
    "# Paragraph is the corpse here\n",
    "paragraph = \"\"\"I have three visions for India. In 3000 years of our history, people from all over \n",
    "               the world have come and invaded us, captured our lands, conquered our minds. \n",
    "               From Alexander onwards, the Greeks, the Turks, the Moguls, the Portuguese, the British,\n",
    "               the French, the Dutch, all of them came and looted us, took over what was ours. \n",
    "               Yet we have not done this to any other nation. We have not conquered anyone. \n",
    "               We have not grabbed their land, their culture, \n",
    "               their history and tried to enforce our way of life on them. \n",
    "               Why? Because we respect the freedom of others.That is why my \n",
    "               first vision is that of freedom. I believe that India got its first vision of \n",
    "               this in 1857, when we started the War of Independence. It is this freedom that\n",
    "               we must protect and nurture and build on. If we are not free, no one will respect us.\n",
    "               My second vision for India’s development. For fifty years we have been a developing nation.\n",
    "               It is time we see ourselves as a developed nation. We are among the top 5 nations of the world\n",
    "               in terms of GDP. We have a 10 percent growth rate in most areas. Our poverty levels are falling.\n",
    "               Our achievements are being globally recognised today. Yet we lack the self-confidence to\n",
    "               see ourselves as a developed nation, self-reliant and self-assured. Isn’t this incorrect?\n",
    "               I have a third vision. India must stand up to the world. Because I believe that unless India \n",
    "               stands up to the world, no one will respect us. Only strength respects strength. We must be \n",
    "               strong not only as a military power but also as an economic power. Both must go hand-in-hand. \n",
    "               My good fortune was to have worked with three great minds. Dr. Vikram Sarabhai of the Dept. of \n",
    "               space, Professor Satish Dhawan, who succeeded him and Dr. Brahm Prakash, father of nuclear material.\n",
    "               I was lucky to have worked with all three of them closely and consider this the great opportunity of my life. \n",
    "               I see four milestones in my career\"\"\"\n",
    "\n",
    "# Tokenize to sentences\n",
    "sentences = nltk.sent_tokenize(paragraph)\n",
    "print(len(sentences))"
   ]
  },
  {
   "cell_type": "code",
   "execution_count": 23,
   "metadata": {},
   "outputs": [],
   "source": [
    "# Create an object of the stemmer\n",
    "stemmer = PorterStemmer()"
   ]
  },
  {
   "cell_type": "code",
   "execution_count": 24,
   "metadata": {},
   "outputs": [
    {
     "name": "stdout",
     "output_type": "stream",
     "text": [
      "I have three visions for India.\n",
      "three vision india .\n",
      "In 3000 years of our history, people from all over \n",
      "               the world have come and invaded us, captured our lands, conquered our minds.\n",
      "3000 year histori , peopl world come invad us , captur land , conquer mind .\n",
      "From Alexander onwards, the Greeks, the Turks, the Moguls, the Portuguese, the British,\n",
      "               the French, the Dutch, all of them came and looted us, took over what was ours.\n",
      "alexand onward , greek , turk , mogul , portugues , british , french , dutch , came loot us , took .\n",
      "Yet we have not done this to any other nation.\n",
      "yet done nation .\n",
      "We have not conquered anyone.\n",
      "conquer anyon .\n",
      "We have not grabbed their land, their culture, \n",
      "               their history and tried to enforce our way of life on them.\n",
      "grab land , cultur , histori tri enforc way life .\n",
      "Why?\n",
      "?\n",
      "Because we respect the freedom of others.That is why my \n",
      "               first vision is that of freedom.\n",
      "respect freedom others.that first vision freedom .\n",
      "I believe that India got its first vision of \n",
      "               this in 1857, when we started the War of Independence.\n",
      "believ india got first vision 1857 , start war independ .\n",
      "It is this freedom that\n",
      "               we must protect and nurture and build on.\n",
      "freedom must protect nurtur build .\n",
      "If we are not free, no one will respect us.\n",
      "free , one respect us .\n",
      "My second vision for India’s development.\n",
      "second vision india ’ develop .\n",
      "For fifty years we have been a developing nation.\n",
      "fifti year develop nation .\n",
      "It is time we see ourselves as a developed nation.\n",
      "time see develop nation .\n",
      "We are among the top 5 nations of the world\n",
      "               in terms of GDP.\n",
      "among top 5 nation world term gdp .\n",
      "We have a 10 percent growth rate in most areas.\n",
      "10 percent growth rate area .\n",
      "Our poverty levels are falling.\n",
      "poverti level fall .\n",
      "Our achievements are being globally recognised today.\n",
      "achiev global recognis today .\n",
      "Yet we lack the self-confidence to\n",
      "               see ourselves as a developed nation, self-reliant and self-assured.\n",
      "yet lack self-confid see develop nation , self-reli self-assur .\n",
      "Isn’t this incorrect?\n",
      "’ incorrect ?\n",
      "I have a third vision.\n",
      "third vision .\n",
      "India must stand up to the world.\n",
      "india must stand world .\n",
      "Because I believe that unless India \n",
      "               stands up to the world, no one will respect us.\n",
      "believ unless india stand world , one respect us .\n",
      "Only strength respects strength.\n",
      "strength respect strength .\n",
      "We must be \n",
      "               strong not only as a military power but also as an economic power.\n",
      "must strong militari power also econom power .\n",
      "Both must go hand-in-hand.\n",
      "must go hand-in-hand .\n",
      "My good fortune was to have worked with three great minds.\n",
      "good fortun work three great mind .\n",
      "Dr. Vikram Sarabhai of the Dept.\n",
      "dr. vikram sarabhai dept .\n",
      "of \n",
      "               space, Professor Satish Dhawan, who succeeded him and Dr. Brahm Prakash, father of nuclear material.\n",
      "space , professor satish dhawan , succeed dr. brahm prakash , father nuclear materi .\n",
      "I was lucky to have worked with all three of them closely and consider this the great opportunity of my life.\n",
      "lucki work three close consid great opportun life .\n",
      "I see four milestones in my career\n",
      "see four mileston career\n"
     ]
    }
   ],
   "source": [
    "# Stemming\n",
    "for i in range(len(sentences)):\n",
    "    # Tokenize sentences to words\n",
    "    print(sentences[i])\n",
    "    words = nltk.word_tokenize(sentences[i])\n",
    "    # Stem if word not in stopwords\n",
    "    words = [stemmer.stem(word) for word in words if word.lower() not in set(stopwords.words('english'))]\n",
    "    # Replace old sentence with new stemmed sentence without stopwords\n",
    "    sentences[i] = ' '.join(words)\n",
    "    print(sentences[i])"
   ]
  },
  {
   "cell_type": "code",
   "execution_count": null,
   "metadata": {},
   "outputs": [],
   "source": []
  }
 ],
 "metadata": {
  "kernelspec": {
   "display_name": "Python 3",
   "language": "python",
   "name": "python3"
  },
  "language_info": {
   "codemirror_mode": {
    "name": "ipython",
    "version": 3
   },
   "file_extension": ".py",
   "mimetype": "text/x-python",
   "name": "python",
   "nbconvert_exporter": "python",
   "pygments_lexer": "ipython3",
   "version": "3.8.5"
  }
 },
 "nbformat": 4,
 "nbformat_minor": 4
}
